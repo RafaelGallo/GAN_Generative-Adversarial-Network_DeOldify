{
  "cells": [
    {
      "cell_type": "markdown",
      "metadata": {
        "id": "view-in-github",
        "colab_type": "text"
      },
      "source": [
        "<a href=\"https://colab.research.google.com/github/RafaelGallo/GAN_Generative-Adversarial-Network_DeOldify/blob/main/GAN_Generative_Adversarial_Network_DeOldify.ipynb\" target=\"_parent\"><img src=\"https://colab.research.google.com/assets/colab-badge.svg\" alt=\"Open In Colab\"/></a>"
      ]
    },
    {
      "cell_type": "markdown",
      "source": [
        "## **GAN Generative Adversarial Network DeOldify**"
      ],
      "metadata": {
        "id": "GzXsDSJJmVl8"
      }
    },
    {
      "cell_type": "code",
      "execution_count": null,
      "metadata": {
        "id": "-T-svuHytJ-8"
      },
      "outputs": [],
      "source": [
        "# Clone the DeOldify repository to the 'DeOldify' folder\n",
        "!git clone https://github.com/jantic/DeOldify.git DeOldify"
      ]
    },
    {
      "cell_type": "code",
      "execution_count": null,
      "metadata": {
        "id": "RudHSDwoOhA2"
      },
      "outputs": [],
      "source": [
        "# Change to the DeOldify directory (only necessary in a terminal, not in a notebook)\n",
        "!cd DeOldify"
      ]
    },
    {
      "cell_type": "code",
      "execution_count": null,
      "metadata": {
        "id": "00_GcC_trpdE"
      },
      "outputs": [],
      "source": [
        "# Set GPU0 as the processing device (if available)\n",
        "device.set(device=DeviceId.GPU0)\n",
        "\n",
        "# Check if GPU is available, print a warning if not\n",
        "if not torch.cuda.is_available():\n",
        "    print('GPU not available.')"
      ]
    },
    {
      "cell_type": "code",
      "execution_count": null,
      "metadata": {
        "id": "Lsx7xCXNSVt6"
      },
      "outputs": [],
      "source": [
        "# Install all requirements for DeOldify on Colab\n",
        "!pip install -r requirements-colab.txt"
      ]
    },
    {
      "cell_type": "code",
      "execution_count": null,
      "metadata": {
        "id": "MsJa69CMwj3l"
      },
      "outputs": [],
      "source": [
        "# Optimize PyTorch for fast GPU usage (cudnn benchmark)\n",
        "torch.backends.cudnn.benchmark = True"
      ]
    },
    {
      "cell_type": "code",
      "source": [
        "# Create the 'models' directory to store weights\n",
        "!mkdir 'models'"
      ],
      "metadata": {
        "id": "cnfm8ya1pnft"
      },
      "execution_count": null,
      "outputs": []
    },
    {
      "cell_type": "code",
      "execution_count": null,
      "metadata": {
        "id": "EBq4XKSxOhA3"
      },
      "outputs": [],
      "source": [
        "# Download the Stable DeOldify model to the 'models' folder\n",
        "!wget https://www.dropbox.com/s/axsd2g85uyixaho/ColorizeStable_gen.pth?dl=0 -O ./models/ColorizeStable_gen.pth"
      ]
    },
    {
      "cell_type": "code",
      "source": [
        "# Adjust references for DeOldify internal classes\n",
        "collections.Sized = collections.abc.Sized\n",
        "collections.Mapping = collections.abc.Mapping\n",
        "collections.Iterable = collections.abc.Iterable\n",
        "\n",
        "# Add safe types for PyTorch model deserialization\n",
        "torch.serialization.add_safe_globals([functools.partial, builtins.getattr, slice])"
      ],
      "metadata": {
        "id": "lPPQPJLuPtsT"
      },
      "execution_count": null,
      "outputs": []
    },
    {
      "cell_type": "code",
      "source": [
        "# (Re) create the models folder (-p avoids error if already exists)\n",
        "!mkdir -p models/"
      ],
      "metadata": {
        "id": "ye21QbU2QHRo"
      },
      "execution_count": null,
      "outputs": []
    },
    {
      "cell_type": "code",
      "source": [
        "# Download the Artistic DeOldify model to the 'models' folder\n",
        "!wget https://data.deepai.org/deoldify/ColorizeArtistic_gen.pth -O ./models/ColorizeArtistic_gen.pth"
      ],
      "metadata": {
        "id": "vICO8r-blE4b"
      },
      "execution_count": null,
      "outputs": []
    },
    {
      "cell_type": "code",
      "source": [
        "# PyTorch and fastai\n",
        "import torch\n",
        "import fastai\n",
        "\n",
        "# DeOldify imports\n",
        "from deoldify import device\n",
        "from deoldify.device_id import DeviceId\n",
        "from deoldify.visualize import *\n",
        "\n",
        "# Python standard libraries\n",
        "import os\n",
        "import shutil\n",
        "from pathlib import Path\n",
        "from PIL import Image\n",
        "import functools\n",
        "import builtins\n",
        "import collections\n",
        "import collections.abc"
      ],
      "metadata": {
        "id": "TGO0TNwvvDC5"
      },
      "execution_count": null,
      "outputs": []
    },
    {
      "cell_type": "code",
      "execution_count": null,
      "metadata": {
        "id": "tzHVnegp21hC"
      },
      "outputs": [],
      "source": [
        "# Create the DeOldify artistic colorizer object\n",
        "colorizer = get_image_colorizer(artistic=True)"
      ]
    },
    {
      "cell_type": "code",
      "source": [
        "# Replace with the path to your grayscale image\n",
        "uploaded_filename = '/content/16034886295f934b754954d_1603488629_3x4_md.jpg'"
      ],
      "metadata": {
        "id": "9ypTt0beUk2v"
      },
      "execution_count": null,
      "outputs": []
    },
    {
      "cell_type": "code",
      "source": [
        "# Set the render_factor (higher = more color, but can produce artifacts)\n",
        "render_factor = 15\n",
        "\n",
        "# Generate the colorized image and display the comparison (saved to DeOldify's default folder)\n",
        "result_path = colorizer.plot_transformed_image(\n",
        "    Path(uploaded_filename),\n",
        "    render_factor=render_factor,\n",
        "    compare=True\n",
        ")"
      ],
      "metadata": {
        "id": "Nf1jHeuOSXs1"
      },
      "execution_count": null,
      "outputs": []
    },
    {
      "cell_type": "code",
      "source": [
        "import matplotlib.pyplot as plt\n",
        "from PIL import Image\n",
        "import os\n",
        "from pathlib import Path\n",
        "import glob\n",
        "\n",
        "# List of image paths you want to colorize\n",
        "input_imgs = ['/content/tarsila-do-amaral-1554419161395_v2_800x1125.jpg',\n",
        "              '/content/SITE_Enchentes-0-2280px-abre.jpg',\n",
        "              '/content/16034886295f934b754954d_1603488629_3x4_md.jpg',\n",
        "              '/content/97167585_SCSemana-de-22Oswald-de-Andrade-e-Tarsila-do-Amaral-a-bordo-de-um-navio.Credito-Fun.jpg',\n",
        "              '/content/61-praca-da-republica-em-1915-1453570391749_956x500.jpg.webp',\n",
        "              '/content/52-avenida-paulista-em-1930-1453570448145_956x500.jpg.webp',\n",
        "              '/content/95-edificio-altino-arantes-conhecido-como-predio-do-banespa-ou-banespao-e-inspirado-no-empire-state-de-nova-york-foi-inaugurado-em-1947-na.webp',\n",
        "              '/content/mario.jpeg',\n",
        "              '/content/001.png',\n",
        "              '/content/estacaodaluz.jpg',\n",
        "              '/content/50-avenida-paulista-em-1902-1453570453709_956x500.jpg.webp',\n",
        "              '/content/dom-pedro-i.jpg',\n",
        "              '/content/dom_pedro22.jpeg',\n",
        "              '/content/dpedro2.jpg',\n",
        "              '/content/familiareal2.jpg',\n",
        "              '/content/sp45.jpg']"
      ],
      "metadata": {
        "id": "LqnLgRt4uuN7"
      },
      "execution_count": null,
      "outputs": []
    },
    {
      "cell_type": "code",
      "source": [
        "# Pasta de saída dos resultados coloridos e dos comparativos\n",
        "output_dir = '/content/teste_render_factors'\n",
        "compare_dir = os.path.join(output_dir, 'comparisons')\n",
        "os.makedirs(compare_dir, exist_ok=True)"
      ],
      "metadata": {
        "id": "WYnmAon-uuXd"
      },
      "execution_count": null,
      "outputs": []
    },
    {
      "cell_type": "code",
      "source": [
        "for img_path in input_imgs:\n",
        "    basename = Path(img_path).stem\n",
        "    # Busca todos os arquivos coloridos do tipo *_rf*.jpg (NUNCA *_compare.jpg)\n",
        "    pattern = os.path.join(output_dir, f\"{basename}_rf*.jpg\")\n",
        "    colorized_files = [f for f in glob.glob(pattern) if '_compare' not in f and '_before_after' not in f]\n",
        "    if not colorized_files:\n",
        "        print(f\"No colorized images found for: {basename}\")\n",
        "        continue\n",
        "\n",
        "    # Abre o original SEMPRE em preto-e-branco\n",
        "    img_original = Image.open(img_path).convert('L').convert('RGB')\n",
        "\n",
        "    for colorized_path in colorized_files:\n",
        "        rf_part = Path(colorized_path).stem.split('_rf')[-1]\n",
        "        compare_path = os.path.join(compare_dir, f\"{basename}_rf{rf_part}_before_after.jpg\")\n",
        "\n",
        "        img_colorized = Image.open(colorized_path).convert('RGB')\n",
        "        img_colorized = img_colorized.resize(img_original.size)\n",
        "\n",
        "        # Plota e salva lado a lado: Original (B&W) | Colorized\n",
        "        plt.figure(figsize=(10, 7))\n",
        "        plt.subplot(1, 2, 1)\n",
        "        plt.imshow(img_original)\n",
        "        plt.axis('off')\n",
        "        plt.title(\"Original\", fontsize=14)\n",
        "\n",
        "        plt.subplot(1, 2, 2)\n",
        "        plt.imshow(img_colorized)\n",
        "        plt.axis('off')\n",
        "        plt.title(f\"Colorized (rf={rf_part})\", fontsize=14)\n",
        "\n",
        "        plt.suptitle(\"Colorized\", fontsize=20)\n",
        "        plt.tight_layout()\n",
        "        plt.savefig(compare_path, bbox_inches='tight')\n",
        "        plt.show()\n",
        "        plt.close()\n",
        "        print(f\"Saved: {compare_path}\")"
      ],
      "metadata": {
        "id": "jjK8mouUmlxw"
      },
      "execution_count": null,
      "outputs": []
    }
  ],
  "metadata": {
    "colab": {
      "provenance": [],
      "include_colab_link": true
    },
    "kernelspec": {
      "display_name": "Python 3",
      "name": "python3"
    },
    "language_info": {
      "codemirror_mode": {
        "name": "ipython",
        "version": 3
      },
      "file_extension": ".py",
      "mimetype": "text/x-python",
      "name": "python",
      "nbconvert_exporter": "python",
      "pygments_lexer": "ipython3",
      "version": "3.7.6"
    }
  },
  "nbformat": 4,
  "nbformat_minor": 0
}